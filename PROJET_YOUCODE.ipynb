{
 "cells": [
  {
   "cell_type": "markdown",
   "id": "950f81ea-7c30-44b0-b9a8-4ff7758eb83e",
   "metadata": {},
   "source": [
    "**projot youcode**\n"
   ]
  },
  {
   "cell_type": "code",
   "execution_count": 1,
   "id": "d8f3a04a-488e-41dc-b39a-8fba36903282",
   "metadata": {},
   "outputs": [
    {
     "name": "stdout",
     "output_type": "stream",
     "text": [
      "Échec de la lecture avec l'encodage utf-8\n",
      "Fichier lu avec succès avec l'encodage latin1\n"
     ]
    }
   ],
   "source": [
    "# Importation des bibliotheques \n",
    "import pandas as pd\n",
    "import matplotlib.pyplot as plt\n",
    "import os\n",
    "import re\n",
    "\n",
    "path=r'C:\\Users\\pc\\Desktop\\email spaming\\data-sell4all.csv'\n",
    "if not os.path.exists(path):\n",
    "    print('il existe pas')\n",
    "\n",
    "else:\n",
    "     \n",
    "    encodings = ['utf-8', 'latin1', 'cp1252']\n",
    "\n",
    "    \n",
    "    for encoding in encodings:\n",
    "        try:\n",
    "            df = pd.read_csv(path, encoding=encoding)\n",
    "            print(f\"Fichier lu avec succès avec l'encodage {encoding}\")\n",
    "            break\n",
    "        except UnicodeDecodeError:\n",
    "            print(f\"Échec de la lecture avec l'encodage {encoding}\")\n",
    "            continue\n",
    "    else:\n",
    "        raise ValueError(\"Impossible de lire le fichier avec les encodages fournis.\")\n"
   ]
  },
  {
   "cell_type": "code",
   "execution_count": 2,
   "id": "16744855-0bf1-4129-b5b8-108648985e2d",
   "metadata": {},
   "outputs": [
    {
     "data": {
      "text/html": [
       "<div>\n",
       "<style scoped>\n",
       "    .dataframe tbody tr th:only-of-type {\n",
       "        vertical-align: middle;\n",
       "    }\n",
       "\n",
       "    .dataframe tbody tr th {\n",
       "        vertical-align: top;\n",
       "    }\n",
       "\n",
       "    .dataframe thead th {\n",
       "        text-align: right;\n",
       "    }\n",
       "</style>\n",
       "<table border=\"1\" class=\"dataframe\">\n",
       "  <thead>\n",
       "    <tr style=\"text-align: right;\">\n",
       "      <th></th>\n",
       "      <th>Pays</th>\n",
       "      <th>Age</th>\n",
       "      <th>Genre</th>\n",
       "      <th>Dépenses des clients</th>\n",
       "    </tr>\n",
       "  </thead>\n",
       "  <tbody>\n",
       "    <tr>\n",
       "      <th>0</th>\n",
       "      <td>France</td>\n",
       "      <td>32</td>\n",
       "      <td>Female</td>\n",
       "      <td>150.50</td>\n",
       "    </tr>\n",
       "    <tr>\n",
       "      <th>1</th>\n",
       "      <td>Germany</td>\n",
       "      <td>45</td>\n",
       "      <td>Male</td>\n",
       "      <td>200.75</td>\n",
       "    </tr>\n",
       "    <tr>\n",
       "      <th>2</th>\n",
       "      <td>Spain</td>\n",
       "      <td>28</td>\n",
       "      <td>Female</td>\n",
       "      <td>75.25</td>\n",
       "    </tr>\n",
       "    <tr>\n",
       "      <th>3</th>\n",
       "      <td>Italy</td>\n",
       "      <td>39</td>\n",
       "      <td>Male</td>\n",
       "      <td>180.00</td>\n",
       "    </tr>\n",
       "    <tr>\n",
       "      <th>4</th>\n",
       "      <td>UK</td>\n",
       "      <td>52</td>\n",
       "      <td>Female</td>\n",
       "      <td>250.30</td>\n",
       "    </tr>\n",
       "  </tbody>\n",
       "</table>\n",
       "</div>"
      ],
      "text/plain": [
       "      Pays  Age    Genre Dépenses des clients\n",
       "0   France    32  Female               150.50\n",
       "1  Germany    45    Male               200.75\n",
       "2    Spain    28  Female                75.25\n",
       "3    Italy    39    Male               180.00\n",
       "4       UK    52  Female               250.30"
      ]
     },
     "execution_count": 2,
     "metadata": {},
     "output_type": "execute_result"
    }
   ],
   "source": [
    "df.head()"
   ]
  },
  {
   "cell_type": "code",
   "execution_count": 3,
   "id": "73e616b2-18a6-481e-bc97-cfb178d4934c",
   "metadata": {},
   "outputs": [
    {
     "name": "stdout",
     "output_type": "stream",
     "text": [
      "<class 'pandas.core.frame.DataFrame'>\n",
      "RangeIndex: 65 entries, 0 to 64\n",
      "Data columns (total 4 columns):\n",
      " #   Column                Non-Null Count  Dtype \n",
      "---  ------                --------------  ----- \n",
      " 0   Pays                  65 non-null     object\n",
      " 1    Age                  63 non-null     object\n",
      " 2   Genre                 64 non-null     object\n",
      " 3   Dépenses des clients  64 non-null     object\n",
      "dtypes: object(4)\n",
      "memory usage: 2.2+ KB\n"
     ]
    }
   ],
   "source": [
    "df.info()"
   ]
  },
  {
   "cell_type": "code",
   "execution_count": 4,
   "id": "3d6f13b2-657c-402d-95df-7cdf064f71c1",
   "metadata": {},
   "outputs": [
    {
     "name": "stdout",
     "output_type": "stream",
     "text": [
      "Le fichier CSV contient 65 lignes et 4 colonnes.\n",
      "Les colonnes sont: ['Pays', ' Age ', 'Genre', 'Dépenses des clients']\n",
      "Les types de donnees des champs sont: Pays                    object\n",
      " Age                    object\n",
      "Genre                   object\n",
      "Dépenses des clients    object\n",
      "dtype: object\n"
     ]
    }
   ],
   "source": [
    "print(\"Le fichier CSV contient\", df.shape[0], \"lignes et\", df.shape[1], \"colonnes.\")\n",
    "print(\"Les colonnes sont:\", df.columns.tolist())\n",
    "print(\"Les types de donnees des champs sont:\", df.dtypes)"
   ]
  },
  {
   "cell_type": "markdown",
   "id": "29335e69-54da-4ab9-8346-2f5b8c059918",
   "metadata": {},
   "source": [
    "**je dois chnager le nom de la colonne age pour suprimmer les espaces et changer le type des colonnes(Age et depenses des clients)**"
   ]
  },
  {
   "cell_type": "code",
   "execution_count": 5,
   "id": "c6efde0a-fc30-4159-a762-731b7b192cba",
   "metadata": {},
   "outputs": [],
   "source": [
    "df['Age']=df[' Age ']"
   ]
  },
  {
   "cell_type": "code",
   "execution_count": 6,
   "id": "24e77f36-b7d3-49fa-af39-61e57a7a4dae",
   "metadata": {},
   "outputs": [],
   "source": [
    "df.drop(columns=[' Age '], inplace=True)"
   ]
  },
  {
   "cell_type": "code",
   "execution_count": 7,
   "id": "d4bc175b-3287-4fe4-a985-0bee490acd61",
   "metadata": {},
   "outputs": [],
   "source": [
    "df['Age'] = pd.to_numeric(df['Age'], errors='coerce')"
   ]
  },
  {
   "cell_type": "code",
   "execution_count": 8,
   "id": "b07cc5fe-6e9e-4340-8160-5e2d588853b2",
   "metadata": {},
   "outputs": [],
   "source": [
    "df['Dépenses des clients'] = df['Dépenses des clients'].replace(r'[^\\d.]+', '', regex=True)\n",
    "\n",
    "\n",
    "df['Dépenses des clients'] = pd.to_numeric(df['Dépenses des clients'], errors='coerce')\n"
   ]
  },
  {
   "cell_type": "markdown",
   "id": "2d81a06e-35d0-4d2d-8ff3-0f0b5149f217",
   "metadata": {},
   "source": [
    "**la médiane et la moyenne des colonnes(Age et Dépenses des clients )**"
   ]
  },
  {
   "cell_type": "code",
   "execution_count": 9,
   "id": "81e42873-48e0-48a2-981b-5f43b396e31e",
   "metadata": {},
   "outputs": [
    {
     "name": "stdout",
     "output_type": "stream",
     "text": [
      "Médiane de l'âge: 36.0\n",
      "Moyenne de l'âge: 52.42372881355932\n",
      "Médiane des dépenses des clients: 162.875\n",
      "Moyenne des dépenses des clients: 34184.35983870967\n"
     ]
    }
   ],
   "source": [
    "median_age = df['Age'].median()\n",
    "mean_age = df['Age'].mean()\n",
    "median_expenses = df['Dépenses des clients'].median()\n",
    "mean_expenses = df['Dépenses des clients'].mean()\n",
    "\n",
    "print(f\"Médiane de l'âge: {median_age}\")\n",
    "print(f\"Moyenne de l'âge: {mean_age}\")\n",
    "print(f\"Médiane des dépenses des clients: {median_expenses}\")\n",
    "print(f\"Moyenne des dépenses des clients: {mean_expenses}\")"
   ]
  },
  {
   "cell_type": "markdown",
   "id": "60313cc4-60a5-478a-b08c-67e44240a407",
   "metadata": {},
   "source": [
    "**une visualisation des données du graphique à barres qui montre les dépenses\r\n",
    "des clients par pay,**"
   ]
  },
  {
   "cell_type": "code",
   "execution_count": 10,
   "id": "d1dc04e8-eeb5-4ae4-bcaf-cd4e299414dc",
   "metadata": {},
   "outputs": [
    {
     "data": {
      "image/png": "[encoded data removed]",
      "text/plain": [
       "<Figure size 640x480 with 1 Axes>"
      ]
     },
     "metadata": {},
     "output_type": "display_data"
    }
   ],
   "source": [
    "df.groupby('Pays')['Dépenses des clients'].sum().plot(kind='bar')\n",
    "plt.xlabel('Pays')\n",
    "plt.ylabel('Dépenses des clients')\n",
    "plt.title('Dépenses des clients par pays')\n",
    "plt.show()"
   ]
  },
  {
   "cell_type": "code",
   "execution_count": 12,
   "id": "9a380a8e-6a8b-4095-95c5-d58da5d43a31",
   "metadata": {},
   "outputs": [
    {
     "data": {
      "text/plain": [
       "0         150.50\n",
       "1         200.75\n",
       "2          75.25\n",
       "3         180.00\n",
       "4         250.30\n",
       "         ...    \n",
       "60    1010101.01\n",
       "61           NaN\n",
       "62          0.00\n",
       "63     100200.00\n",
       "64           NaN\n",
       "Name: Dépenses des clients, Length: 65, dtype: float64"
      ]
     },
     "execution_count": 12,
     "metadata": {},
     "output_type": "execute_result"
    }
   ],
   "source": [
    "df['Dépenses des clients']"
   ]
  },
  {
   "cell_type": "markdown",
   "id": "76cdbdd7-b049-4c0a-a51e-8d73ce438ddd",
   "metadata": {},
   "source": [
    "**les lignes avec moins de 10 € de dépenses client**"
   ]
  },
  {
   "cell_type": "code",
   "execution_count": 13,
   "id": "c00f0d78-3d4f-4be9-b47e-3f2358831dd8",
   "metadata": {},
   "outputs": [],
   "source": [
    "\n",
    "df = df[df['Dépenses des clients'] >= 10]\n",
    "\n",
    "    # Nettoyer les doublons\n",
    "df = df.drop_duplicates()"
   ]
  },
  {
   "cell_type": "code",
   "execution_count": 14,
   "id": "addf861a-cff2-43c1-8973-ad8d56e98698",
   "metadata": {},
   "outputs": [
    {
     "data": {
      "text/plain": [
       "0         150.50\n",
       "1         200.75\n",
       "2          75.25\n",
       "3         180.00\n",
       "4         250.30\n",
       "5          90.00\n",
       "6         175.50\n",
       "7         120.75\n",
       "8          95.25\n",
       "9         220.00\n",
       "10        160.25\n",
       "11         85.50\n",
       "12        190.75\n",
       "13        140.00\n",
       "14        210.50\n",
       "15        130.25\n",
       "16        170.00\n",
       "18        200.25\n",
       "19        110.50\n",
       "20        180.75\n",
       "21        100.25\n",
       "22        230.00\n",
       "23        150.75\n",
       "24         80.50\n",
       "25        215.25\n",
       "26        145.00\n",
       "27        175.50\n",
       "28         70.25\n",
       "29        240.75\n",
       "30        165.00\n",
       "31        195.25\n",
       "32         85.75\n",
       "33        205.50\n",
       "34        135.25\n",
       "35        120.00\n",
       "36        225.75\n",
       "37        155.50\n",
       "38         90.25\n",
       "39        210.00\n",
       "40        170.25\n",
       "41        125.75\n",
       "42        190.00\n",
       "43         75.50\n",
       "44        220.25\n",
       "45        160.75\n",
       "46        185.00\n",
       "47        105.25\n",
       "48        235.50\n",
       "49        140.25\n",
       "50        180.00\n",
       "52        210.50\n",
       "53        145.75\n",
       "54        195.25\n",
       "55     999999.99\n",
       "57        500.00\n",
       "58        100.00\n",
       "59         50.00\n",
       "60    1010101.01\n",
       "63     100200.00\n",
       "Name: Dépenses des clients, dtype: float64"
      ]
     },
     "execution_count": 14,
     "metadata": {},
     "output_type": "execute_result"
    }
   ],
   "source": [
    "df['Dépenses des clients']"
   ]
  },
  {
   "cell_type": "markdown",
   "id": "0702522a-1cdd-40b1-bbdf-ad1407e3b548",
   "metadata": {},
   "source": [
    "**les données nettoyées dans un nouveau fichier CSV**"
   ]
  },
  {
   "cell_type": "code",
   "execution_count": 59,
   "id": "937193ad-4f3c-483d-8ab1-c9a9fc6f3d48",
   "metadata": {},
   "outputs": [
    {
     "name": "stdout",
     "output_type": "stream",
     "text": [
      "Les données nettoyées ont été enregistrées dans 'nv_data-sell4all-cleaned.csv'.\n"
     ]
    }
   ],
   "source": [
    "df_cleaned = df[['Pays', 'Age', 'Genre', 'Dépenses des clients']]\n",
    "df_cleaned.to_csv(r'C:\\Users\\pc\\Desktop\\email spaming\\nv_data-sell4all.csv', index=False)\n",
    "print(\"Les données nettoyées ont été enregistrées dans 'nv_data-sell4all-cleaned.csv'.\")"
   ]
  },
  {
   "cell_type": "code",
   "execution_count": null,
   "id": "4e373d7d-1d19-4dc5-a729-3ae9e27f1d7a",
   "metadata": {},
   "outputs": [],
   "source": []
  }
 ],
 "metadata": {
  "kernelspec": {
   "display_name": "Python 3 (ipykernel)",
   "language": "python",
   "name": "python3"
  },
  "language_info": {
   "codemirror_mode": {
    "name": "ipython",
    "version": 3
   },
   "file_extension": ".py",
   "mimetype": "text/x-python",
   "name": "python",
   "nbconvert_exporter": "python",
   "pygments_lexer": "ipython3",
   "version": "3.11.7"
  }
 },
 "nbformat": 4,
 "nbformat_minor": 5
}
